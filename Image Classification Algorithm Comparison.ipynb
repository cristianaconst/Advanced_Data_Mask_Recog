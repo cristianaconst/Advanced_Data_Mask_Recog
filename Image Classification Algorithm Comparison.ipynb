{
 "cells": [
  {
   "cell_type": "markdown",
   "id": "auburn-today",
   "metadata": {},
   "source": [
    "# CMM536 - Image classification algorithms comparison\n",
    "\n",
    "Machine learning comes with many algorithms such as detection, recognition, classification and so on. Within this piece, we will be focusing on the classification algorithm of multimedia - images. The context of the multimedia is the current global situation that shifted the way we normally do activities. The Covid-19 pandemic forces us to wear masks in public spaces, where for security purposes, the face recognition systems are facing impediments. To improve the system, we need to have a good understanding of the tools available. To do so we will use data sets of masked and unmasked people.\n",
    "   \n",
    "    "
   ]
  },
  {
   "cell_type": "markdown",
   "id": "aggregate-subject",
   "metadata": {},
   "source": [
    "## 1. Data set selection\n",
    "\n",
    "   The image repository is a mix of the repository [Real World Masked Face Dataset](https://github.com/X-zhangyang/Real-World-Masked-Face-Dataset) found on GitHub, and the repository [Face Mask Detection Dataset](https://www.kaggle.com/omkargurav/face-mask-dataset) from Kaggle. The mix brought in a variety of ethnicities (the GitHub repository has a majority of Chinese faces) and image quality (the Kaggle dataset contains images with greater resolution compared to the first dataset).\n",
    "   \n",
    "   The GitHub repository is created for face recognition, so the images were split into folders by the person wearing and not wearing a mask. Therefore, I have made my own hand selection of images and split them by mask and no mask images. The selection was on the criteria: the full face to be visible(as the dataset has the faces already cropped out), the face to not be turned to either side so much that half of the face is not visible, not wearing sunglasses, but vision glasses were accepted(the eyes will be visible). The same criteria were applied to the second dataset, but the face cropping was done manually - faces extraction, from this dataset, can be improved by applying face detection algorithms to the full image. The dataset is available on [Google Drive](https://drive.google.com/drive/folders/19jKp5NA7Q8_u1ezzYAwaBzWJb7OzGUgk?usp=sharing)."
   ]
  },
  {
   "cell_type": "markdown",
   "id": "personal-berkeley",
   "metadata": {},
   "source": [
    "### 1.1. Added complexity\n",
    "\n",
    "The face recognition algorithms will have an improved result when applying gender identification. Nevertheless, the simple model of gender classification can be used in demographics and building up target groups in a business.\n",
    "\n",
    "Therefore, the two existing folders will be split into other two folders for the \"Feminine\" and \"Masculine\" genders. In this way, we will obtain a multi-class classification problem with 4 different classes."
   ]
  },
  {
   "cell_type": "markdown",
   "id": "failing-provincial",
   "metadata": {},
   "source": [
    "## 2. Loading data \n",
    "\n",
    "The experiment will consist of creating a repository with the flattened arrays of the selected images, create four other variations, and compare four models trained with the five repositories created. The repositories will be created by applying the following methods:\n",
    "1. Image Pre-processing\n",
    "2. Feature extraction\n",
    "3. Image augmentation\n",
    "4. Class Decomposition\n",
    "\n",
    "The following code will take each image from the `data` file, read it, resize it, append it to the repositories: flattened pixels, binarised pixels, and the extracted features; and add the class in the `target` list.\n"
   ]
  },
  {
   "cell_type": "code",
   "execution_count": 1,
   "id": "african-listening",
   "metadata": {},
   "outputs": [],
   "source": [
    "# The packages that will be used throughout the report\n",
    "import os # Operating System\n",
    "import numpy as np\n",
    "import cv2\n",
    "import matplotlib.pyplot as plt \n",
    "import tensorflow as tf\n",
    "import random\n",
    "import math\n",
    "from sklearn.cluster import KMeans\n",
    "from sklearn.model_selection import cross_validate\n",
    "from sklearn.model_selection import cross_val_score\n",
    "import copy\n",
    "from keras.utils import np_utils\n",
    "import warnings; warnings.simplefilter('ignore') #Ignore warnings\n",
    "\n",
    "os.environ['KERAS_BACKEND'] = 'tensorflow' # Setting the backend for Keras to be TensorFlow\n",
    "np.random.seed(250) # Random seed set for reproductibility"
   ]
  },
  {
   "cell_type": "code",
   "execution_count": 2,
   "id": "offensive-invalid",
   "metadata": {
    "scrolled": true
   },
   "outputs": [
    {
     "name": "stdout",
     "output_type": "stream",
     "text": [
      "The original repository with the flatten images: \n",
      " [[167 183 194 ...  28  33  34]\n",
      " [ 10  11  11 ...  93 102 102]\n",
      " [ 60  63  59 ... 218 234 247]\n",
      " ...\n",
      " [182 182 183 ... 158 120 155]\n",
      " [233 185 161 ...  62  84  73]\n",
      " [ 28  31  29 ... 166 246 253]] (1395, 8192)\n",
      "\n",
      "The dataset has 1395 images\n",
      "\n",
      "The binarised repository: \n",
      " [[255 255 255 ...   0   0   0]\n",
      " [  0   0   0 ...   0   0   0]\n",
      " [  0   0   0 ... 255 255 255]\n",
      " ...\n",
      " [255 255 255 ... 255 255 255]\n",
      " [255 255 255 ...   0   0   0]\n",
      " [  0   0   0 ... 255 255 255]] (1395, 8192)\n",
      "\n",
      "The HOG features repository: \n",
      " [[0.06131222 0.19852245 0.24525715 ... 0.03565888 0.03582592 0.11416622]\n",
      " [0.4122207  0.4122207  0.29277456 ... 0.21248624 0.3118131  0.3118131 ]\n",
      " [0.23580399 0.21984808 0.13094525 ... 0.0939947  0.0586951  0.30481493]\n",
      " ...\n",
      " [0.20682646 0.23542686 0.11608373 ... 0.08408674 0.09668589 0.291585  ]\n",
      " [0.27562663 0.27562663 0.27562663 ... 0.16814555 0.2969459  0.2969459 ]\n",
      " [0.23247647 0.12942147 0.12052645 ... 0.13510017 0.33835942 0.39086434]] (1395, 3780)\n",
      "\n",
      "The set of the classes {'no_mask_f', 'mask_f', 'mask_m', 'no_mask_m'}\n"
     ]
    }
   ],
   "source": [
    "# resizing dimensions - keep a portrait shape with number of pixels powers of 2 so HOG feature extraction will meet no problems and avoiding large repositories\n",
    "standard_width = 64\n",
    "standard_height = 128\n",
    "\n",
    "path = 'data' # the images are in the folder data\n",
    "\n",
    "images = [] # List of images as 2D arrays with colours\n",
    "target = [] # List of classes\n",
    "original_repo = [] # Repository of flatten pixels\n",
    "thresh_repo = [] # Repository of binarised pixels\n",
    "hog_repo = [] # Repository of the HOG features\n",
    "aug_repo = [] # Repository of the augmented images\n",
    "aug_target = [] # The classes list associated with the balanced repository\n",
    "cl_decompose = [] # The class decomposed target list\n",
    "\n",
    "\n",
    "for root, dirs, files in os.walk(path):\n",
    "    for file in files:\n",
    "        with open(os.path.join(root, file), 'r') as auto:\n",
    "            img = cv2.imread(root + '/' + file, 1) # coloured images\n",
    "            img = cv2.resize(img, (standard_width, standard_height))\n",
    "            # Tensorflow augmentation requires the images to be three-dimensional \n",
    "            images.append(cv2.cvtColor(img, cv2.COLOR_BGR2RGB)) # append the coloured image\n",
    "            img = cv2.cvtColor(img, cv2.COLOR_BGR2GRAY) # convert to grayscale\n",
    "            original_repo.append(img.flatten())\n",
    "            thresh_repo.append(cv2.threshold(img, 115, 255, cv2.THRESH_BINARY)[1].flatten()) # The threshold value is 125\n",
    "            hog_repo.append(cv2.HOGDescriptor().compute(img))\n",
    "            target.append(root.replace(path, '').replace('\\\\', '')) # Append the folder name where the image is located\n",
    "\n",
    "original_repo = np.array(original_repo) #convert the list into a numpy array\n",
    "thresh_repo = np.array(thresh_repo)\n",
    "hog_repo = np.array(hog_repo)\n",
    "#reshape the hog repository to fit the same 2D structure\n",
    "hog_repo = np.reshape(hog_repo, (hog_repo.shape[0], hog_repo.shape[1]))\n",
    "\n",
    "print('The original repository with the flatten images: \\n', original_repo, original_repo.shape)\n",
    "print('\\nThe dataset has ' + str(original_repo.shape[0]) + ' images')\n",
    "print('\\nThe binarised repository: \\n', thresh_repo, thresh_repo.shape)\n",
    "print('\\nThe HOG features repository: \\n', hog_repo, hog_repo.shape)\n",
    "print('\\nThe set of the classes', set(target)) # Show just the classes and not the entire target list"
   ]
  },
  {
   "cell_type": "markdown",
   "id": "07db3022",
   "metadata": {},
   "source": [
    "As we can see, there are 1395 images and the HOG feature repository has fewer features compared to the original and binarised repositories. "
   ]
  },
  {
   "cell_type": "markdown",
   "id": "deluxe-hostel",
   "metadata": {},
   "source": [
    "The following cell will print random pictures to show how the threshold of __115__ is a sensible threshold."
   ]
  },
  {
   "cell_type": "code",
   "execution_count": 3,
   "id": "funky-bulgaria",
   "metadata": {},
   "outputs": [
    {
     "data": {
      "text/plain": [
       "<function matplotlib.pyplot.show(close=None, block=None)>"
      ]
     },
     "execution_count": 3,
     "metadata": {},
     "output_type": "execute_result"
    },
    {
     "data": {
      "image/png": "[encoded data removed]",
      "text/plain": [
       "<Figure size 720x720 with 6 Axes>"
      ]
     },
     "metadata": {
      "needs_background": "light"
     },
     "output_type": "display_data"
    }
   ],
   "source": [
    "fig = plt.figure(figsize = (10, 10))\n",
    "for i in range(1, 7):\n",
    "    img = np.random.randint(1, 1395)\n",
    "    fig.add_subplot(2, 3, i)\n",
    "    plt.imshow(cv2.threshold(cv2.cvtColor(images[img], cv2.COLOR_RGB2GRAY), 115, 255, cv2.THRESH_BINARY)[1], cmap = 'Greys_r')\n",
    "plt.show"
   ]
  },
  {
   "cell_type": "markdown",
   "id": "descending-spectrum",
   "metadata": {},
   "source": [
    "### 2.1. Class distribution\n",
    "\n",
    "With the following code, we will view the class distribution."
   ]
  },
  {
   "cell_type": "code",
   "execution_count": 4,
   "id": "random-intelligence",
   "metadata": {},
   "outputs": [
    {
     "name": "stdout",
     "output_type": "stream",
     "text": [
      "['mask_f' 'mask_m' 'no_mask_f' 'no_mask_m'] \n",
      " [296 347 305 447]\n"
     ]
    },
    {
     "data": {
      "text/plain": [
       "<BarContainer object of 4 artists>"
      ]
     },
     "execution_count": 4,
     "metadata": {},
     "output_type": "execute_result"
    },
    {
     "data": {
      "image/png": "[encoded data removed]",
      "text/plain": [
       "<Figure size 432x288 with 1 Axes>"
      ]
     },
     "metadata": {
      "needs_background": "light"
     },
     "output_type": "display_data"
    }
   ],
   "source": [
    "#Counting the instances for each class\n",
    "class_list, class_count = np.unique(target, return_counts = True)\n",
    "\n",
    "print(class_list,'\\n', class_count)\n",
    "plt.barh(class_list, class_count, color = ['khaki', 'palegreen', 'gold', 'springgreen'])"
   ]
  },
  {
   "cell_type": "markdown",
   "id": "homeless-technician",
   "metadata": {},
   "source": [
    "As we can see, the classes are imbalanced, although not heavily imbalanced. The classes are of the sizes:\n",
    "- No masked male faces - __447__\n",
    "- No masked female faces - __305__\n",
    "- Masked male faces - __347__\n",
    "- Masked female faces - __296__\n",
    "\n",
    "As a binary problem (mask/no-mask), there are in total more images of no-masked faces than faces that wear masks. A fact which reflects the population data as there are more pictures of faces not wearing a mask."
   ]
  },
  {
   "cell_type": "markdown",
   "id": "0aafb579",
   "metadata": {},
   "source": [
    "### 2.2. Class balancing\n",
    "Due to the class imbalance, we will apply image augmentation and therefore creating the fourth repository."
   ]
  },
  {
   "cell_type": "code",
   "execution_count": 5,
   "id": "photographic-shelter",
   "metadata": {
    "scrolled": true
   },
   "outputs": [
    {
     "name": "stdout",
     "output_type": "stream",
     "text": [
      "\n",
      "The augmented repository: \n",
      " [[167. 183. 194. ...  28.  33.  34.]\n",
      " [ 10.  11.  11. ...  93. 102. 102.]\n",
      " [ 60.  63.  59. ... 218. 234. 247.]\n",
      " ...\n",
      " [182. 182. 183. ... 158. 120. 155.]\n",
      " [233. 185. 161. ...  62.  84.  73.]\n",
      " [ 28.  31.  29. ... 166. 246. 253.]] (1788, 8192)\n",
      "\n",
      " ['mask_f' 'mask_m' 'no_mask_f' 'no_mask_m'] \n",
      " [447 447 447 447]\n"
     ]
    },
    {
     "data": {
      "text/plain": [
       "<BarContainer object of 4 artists>"
      ]
     },
     "execution_count": 5,
     "metadata": {},
     "output_type": "execute_result"
    },
    {
     "data": {
      "image/png": "[encoded data removed]",
      "text/plain": [
       "<Figure size 432x288 with 1 Axes>"
      ]
     },
     "metadata": {
      "needs_background": "light"
     },
     "output_type": "display_data"
    }
   ],
   "source": [
    "## Creating the augmented repository variant\n",
    "\n",
    "# Defining the augmentation methods\n",
    "# Changing the colour\n",
    "def colour (x: tf.Tensor) -> tf.Tensor:\n",
    "    x = tf.image.random_hue(x, 0.1)\n",
    "    x = tf.image.random_saturation(x, 0.5, 1.5)\n",
    "    x = tf.image.random_brightness(x, 0.05)\n",
    "    x = tf.image.random_contrast(x, 0.2, 0.5)\n",
    "    return x\n",
    "\n",
    "\n",
    "def flip (x: tf.Tensor) -> tf.Tensor:\n",
    "    x = tf.image.random_flip_left_right(x)\n",
    "    x = tf.image.random_flip_up_down(x)\n",
    "    return x\n",
    "\n",
    "\n",
    "def rotate (x: tf.Tensor) -> tf.Tensor:\n",
    "    x = tf.image.rot90(x, tf.random.uniform(shape = [], minval = 0, maxval = 4, dtype = tf.int32))\n",
    "    return x\n",
    "\n",
    "\n",
    "def zoom (x: tf.Tensor) -> tf.Tensor:\n",
    "    scales = list(np.arange(0.8, 1., 0.01))\n",
    "    boxes = np.zeros((len(scales), 4))\n",
    "    \n",
    "    for i, scale in enumerate(scales):\n",
    "        x1 = y1 = 0.5 - (0.5 * scale)\n",
    "        x2 = y2 = 0.5 + (0.5 * scale)\n",
    "        boxes[i] = [x1, y1, x2, y2]\n",
    "    \n",
    "    def random_crop (img):\n",
    "        crops = tf.image.crop_and_resize(image = [img], boxes = boxes, box_indices = np.zeros(len(scales)), crop_size = (standard_width, standard_height))\n",
    "        return crops[tf.random.uniform(shape = [], minval = 0, maxval = len(scales), dtype = tf.int32)]\n",
    "    \n",
    "    choice = tf.random.uniform(shape = [], minval = 0., maxval = 1., dtype = tf.float32)\n",
    "    return tf.cond(choice < .5, lambda: x, lambda: random_crop(x))\n",
    "\n",
    "\n",
    "\n",
    "augmentations = [colour, flip, rotate, zoom]\n",
    "aug_images = images # the list of the images to which adding the augmented images\n",
    "aug_target = copy.deepcopy(target)\n",
    "\n",
    "class_count = list(class_count)\n",
    "\n",
    "## Now to balance the classes\n",
    "# Make use of the lists: `class_list` and `class_count`\n",
    "for no in class_count:\n",
    "    y = max(class_count) - no # Obtaining the difference of how much to augment # maximum is picked for replicability\n",
    "    class_item = class_list[class_count.index(no)] # Obtaining the name of the class with the count `no`\n",
    "    \n",
    "    for i in range(y):\n",
    "        # Picking a random image to augment from the right interval\n",
    "        if class_count.index(no) == 0:\n",
    "            random_image = aug_images[random.randint(0, aug_target.count(class_item))]\n",
    "        else:\n",
    "            random_image = aug_images[random.randint(max(class_count) * class_count.index(no) + 1, max(class_count) * class_count.index(no) + aug_target.count(class_item))]\n",
    "        \n",
    "        new_image = random.choice(augmentations)(random_image) # Apply random augmenting function on the random picked image\n",
    "        aug_images.insert(max(class_count) * class_count.index(no) + aug_target.count(class_item), new_image) # Add the new image created to the repository\n",
    "        aug_target.insert(max(class_count) * class_count.index(no) + aug_target.count(class_item), class_item) # Add the class of the newly added image\n",
    "        \n",
    "\n",
    "aug_images = np.array(aug_images)\n",
    "\n",
    "# Modify the `aug_repo` np.array into 2D structure\n",
    "for imindex in range(aug_images.shape[0]):\n",
    "    image = cv2.cvtColor(np.array(aug_images[imindex]), cv2.COLOR_RGB2GRAY) # trying without transforming the image into np.array.... if the augmented images crash if they are as tf \n",
    "    aug_repo.append(image.flatten())\n",
    "    \n",
    "aug_repo = np.array(aug_repo)\n",
    "    \n",
    "print('\\nThe augmented repository: \\n', aug_repo, aug_repo.shape)\n",
    "\n",
    "#Counting the instances for each class\n",
    "aug_class_list, aug_class_count = np.unique(aug_target, return_counts = True)\n",
    "\n",
    "print('\\n', aug_class_list,'\\n', aug_class_count)\n",
    "plt.barh(aug_class_list, aug_class_count, color = ['khaki', 'palegreen', 'gold', 'springgreen'])  \n"
   ]
  },
  {
   "cell_type": "markdown",
   "id": "e2977dd6",
   "metadata": {},
   "source": [
    "As we can see, the augmented repository has $4 \\times 447 = 1788$ images, where $447$ is the maximum count of the classes. And the number of features is the same as in the original repository and as in the binarised repository, namely $8192$."
   ]
  },
  {
   "cell_type": "markdown",
   "id": "736739bc",
   "metadata": {},
   "source": [
    "### 2.3. Class decomposition\n",
    "If in the previous subsection we created more images to balance the classes, now, in the following code cell we will apply class decomposition on the original repository and the original target list. The class decomposition is meant to improve the success of the models and to achieve an almost class balance.\n",
    "\n",
    "We will use the following formula to decide on how many parts to split the classes so the imbalance ratio to be $\\approx 1$:\n",
    "$$ k_i = \\lfloor \\frac{c_i}{Avg} + 1\\rfloor$$ \n",
    "Where:\n",
    "- $k_i$ - The number of clusters\n",
    "- $c_i$ - The number of instances for each class\n",
    "- $Avg$ - The average of the set of instances for class\n",
    "\n",
    "If $k_i \\geq 2$, then the class $i$ will be split into $k_i$ clusters. "
   ]
  },
  {
   "cell_type": "code",
   "execution_count": 6,
   "id": "3ae31db0",
   "metadata": {},
   "outputs": [
    {
     "name": "stdout",
     "output_type": "stream",
     "text": [
      "Number of clusters for class mask_f:  1\n",
      "Number of clusters for class mask_m:  1\n",
      "Number of clusters for class no_mask_f:  1\n",
      "Number of clusters for class no_mask_m:  2\n"
     ]
    }
   ],
   "source": [
    "## Calculating the number of clusters per class\n",
    "# The list `class_count` has the instances counted by class\n",
    "\n",
    "Avg = sum(class_count) / len(class_count) # Calculating the average\n",
    "\n",
    "for i, c in enumerate(class_count):\n",
    "    print('Number of clusters for class ' + str(class_list[i]) + ': ', math.floor(c/Avg + 1))"
   ]
  },
  {
   "cell_type": "markdown",
   "id": "4f6db9f6",
   "metadata": {},
   "source": [
    "Therefore, only one class will be decomposed, namely `no_mask_m` with 447 instances, the maximum, as we saw earlier.\n",
    "\n"
   ]
  },
  {
   "cell_type": "code",
   "execution_count": 7,
   "id": "93cd6bf3",
   "metadata": {
    "scrolled": true
   },
   "outputs": [
    {
     "name": "stdout",
     "output_type": "stream",
     "text": [
      "The class decomposed target list size:  1395\n",
      "\n",
      " ['mask_f0' 'mask_m0' 'no_mask_f0' 'no_mask_m0' 'no_mask_m1'] \n",
      " [296 347 305 215 232]\n"
     ]
    },
    {
     "data": {
      "text/plain": [
       "<BarContainer object of 5 artists>"
      ]
     },
     "execution_count": 7,
     "metadata": {},
     "output_type": "execute_result"
    },
    {
     "data": {
      "image/png": "[encoded data removed]",
      "text/plain": [
       "<Figure size 432x288 with 1 Axes>"
      ]
     },
     "metadata": {
      "needs_background": "light"
     },
     "output_type": "display_data"
    }
   ],
   "source": [
    "for i, class_name in enumerate(class_list):\n",
    "    X = [] # Temporary list of instances\n",
    "    y = [] # Temporary target list\n",
    "    \n",
    "    for l, d in enumerate(original_repo):\n",
    "        if target[l] == class_name:\n",
    "            X.append(d) # Add the instances for the current class\n",
    "            y.append(class_name) # Add the target\n",
    "    \n",
    "    k = math.floor(class_count[i]/Avg + 1) # Number of clusters \n",
    "    \n",
    "    if 1 < k < len(X): \n",
    "        kmeans = KMeans(n_clusters = k).fit(X)\n",
    "        \n",
    "        # Add decimals to the target representing the decomposition\n",
    "        for j, n in enumerate(X):\n",
    "            y[j] = y[j] + str(kmeans.labels_[j])\n",
    "    \n",
    "    else:\n",
    "        for t, m in enumerate(X):\n",
    "            y[t] = y[t] + str('0')\n",
    "    cl_decompose = cl_decompose + y\n",
    "    \n",
    "print('The class decomposed target list size: ', len(cl_decompose))\n",
    "\n",
    "\n",
    "#Counting the instances for each class\n",
    "decomp_class_list, decomp_class_count = np.unique(cl_decompose, return_counts = True)\n",
    "\n",
    "print('\\n', decomp_class_list,'\\n', decomp_class_count)\n",
    "plt.barh(decomp_class_list, decomp_class_count, color = 'tab:green')  \n"
   ]
  },
  {
   "cell_type": "markdown",
   "id": "6db17960",
   "metadata": {},
   "source": [
    "Now, we obtained a target list splitting the data into __five__ classes and the classes do not have a big difference in the number of instances."
   ]
  },
  {
   "cell_type": "markdown",
   "id": "light-lesson",
   "metadata": {},
   "source": [
    "## 3. Performance metrics\n",
    "The comparison between the models will be based mainly on comparing the __F1-score__ for Precision and Recall. F1-score is calculated as follows:\n",
    "\n",
    "$$ F1 = 2 \\times \\frac{Precision\\times Recall}{Precision + Recall} = \\frac{2\\times TP}{2\\times TP + FP + FN}$$\n",
    "\n",
    "Where:\n",
    "- TP - True Positive instances\n",
    "- FP - False Positive instances\n",
    "- FN - False Negative instances\n",
    "\n",
    "Accuracy, Precision, and Recall will be printed, but as not all the data repositories are balanced, these metrics will not be of help picking the best combination."
   ]
  },
  {
   "cell_type": "markdown",
   "id": "tight-emperor",
   "metadata": {},
   "source": [
    "## 4. Train models\n",
    "In this section, we will define, train, and test four different models with the repositories created. The four models will be based on different machine learning algorithms and they are as follows:\n",
    "\n",
    "__1. Support Vector Machine__\n",
    "The model will be build using a linear kernel as of the study done by Ramakrishnan and Sankaragomathi (2017) with the conscious choice that in this set-up, there will not bet attempts in optimising the model. More on the algorithm and other parameters that can be used can be found on [scikit-learn documentation](https://scikit-learn.org/stable/modules/generated/sklearn.svm.SVC.html).\n",
    "\n",
    "__2. Random Forest__\n",
    "Training models with several iteration steps over other several iteration steps are time and resources consuming. Therefore, for the model using Random Forest algorithm, the number of trees is set to 30, even if knowing that increasing the number of trees, the better is model. More on the algorithm and other parameters that can be used can be found on [scikit-learn documentation](https://scikit-learn.org/stable/modules/generated/sklearn.ensemble.RandomForestClassifier.html).\n",
    "\n",
    "__3. Neural Network__\n",
    "This model will as well use a build-in algorithm from `sklearn` package. The dataset is relatively small, but when picking the solver, the optimizer 'lbfgs' has a limit of 200 instances. Therefore, the stochastic gradient-based optimizer `'adam'` was picked. The activation function is the rectified linear unit function: $f(x) = max(0,x)$. The learning rate\\ `alpha` is set to 0.005. More on the algorithm and other parameters that can be used can be found on [scikit-learn documentation](https://scikit-learn.org/stable/modules/generated/sklearn.neural_network.MLPClassifier.html#sklearn.neural_network.MLPClassifier).\n",
    "\n",
    "__4. Convolutional Neural Network__\n",
    "The fourth model will not use a build-in algorithm, but I will show the steps to build a CNN model. The CNN models work with the pixels of the images, therefore, a step of pre-processing the data is needed where we unflatten the repositories with the data on the pixels. Meaning that the repository with the HOG features will not be used with this particular model. In building the model, the same activation function will be used as in the NN model, namely, the rectified linear unit function. Followed by fitting and predicting. The development of the model is done by adding methods to the model `Sequential` part of the [keras models](https://www.tensorflow.org/api_docs/python/tf/keras/Sequential)."
   ]
  },
  {
   "cell_type": "code",
   "execution_count": 21,
   "id": "47ff3bcc",
   "metadata": {
    "scrolled": true
   },
   "outputs": [],
   "source": [
    "## Define models\n",
    "# Support Vector Machine\n",
    "from sklearn.svm import SVC\n",
    "\n",
    "model_svm = SVC(kernel = 'linear')\n",
    "\n",
    "\n",
    "\n",
    "# Random Forest\n",
    "from sklearn.ensemble import RandomForestClassifier\n",
    "\n",
    "model_rf = RandomForestClassifier(n_estimators = 30, random_state = 500)\n",
    "\n",
    "\n",
    "\n",
    "# Neural Network\n",
    "from sklearn.neural_network import MLPClassifier\n",
    "\n",
    "model_nn = MLPClassifier(solver = 'adam', activation = 'relu', alpha = 0.005, random_state = 500)\n",
    "\n",
    "\"\"\"\n",
    "SVM and RF and NN work with vectorised features\n",
    "\"\"\"\n",
    "\n",
    "\n",
    "# Convolutional Neural Nerwork\n",
    "\"\"\"\n",
    "CNN uses only the repositories that stored pixels in the unflattened shape\n",
    "\"\"\"\n",
    "from keras.models import Sequential\n",
    "from keras.layers import Dense, Conv2D, Dropout, Flatten, MaxPooling2D\n",
    "\n",
    "def model_cnn (X_train, y_train, X_test, y_test):\n",
    "    ## Pre-process input data\n",
    "    # Reshape into 4 dimensions\n",
    "    X_train_4D = X_train.reshape(X_train.shape[0], standard_height, standard_width, 1)\n",
    "    X_text_4D = X_test.reshape(X_test.shape[0], standard_height, standard_width, 1)\n",
    "    # Converting to float 32\n",
    "    X_train_4D = X_train_4D.astype('float32')\n",
    "    X_test_4D = X_test_4D.astype('float32')\n",
    "    #normalise\n",
    "    X_train_4D = X_train_4D / 255\n",
    "    X_test_4D = X_test_4D / 255\n",
    "    \n",
    "    ## Model build\n",
    "    model = Sequential()\n",
    "    \n",
    "    model.add(Conv2D(32, (3, 3), activation = 'relu', input_shape = (standard_height, standard_width, 1)))\n",
    "    model.add(Conv2d(32, (3, 3), activation = 'relu'))\n",
    "    model.add(MaxPooling2d(pool_size = (2, 2)))\n",
    "    model.add(Dropout(0.25))\n",
    "    model.add(Flatten())\n",
    "    model.add(Dense(64, activation = 'relu'))\n",
    "    model.add(Dropout(0.5))\n",
    "    model.add(Dense(10, activation = 'relu'))\n",
    "    \n",
    "    ## Compile model\n",
    "    model.compile(loss = 'categorical_crossentropy', optimizer = 'adam', metrics = ['accuracy', 'precision', 'recall'])\n",
    "    \n",
    "    ## Fit model\n",
    "    model.fit(X_train_4D, y_train, batch_size = 32, epochs = 5)\n",
    "    \n",
    "    ## Predict labels\n",
    "    model.predict_classes(X_test_4D)\n",
    "    \n",
    "    return model"
   ]
  },
  {
   "cell_type": "markdown",
   "id": "stainless-assessment",
   "metadata": {},
   "source": [
    "### 4.1. Experimental setting\n",
    "\n",
    "With the models defined, we want to split the data into `training` and `testing`. The split needs to be stratified (having an equal percentage of instances from each class) so the models will not build-up a bias towards a certain class. However, we want to avoid the results being \"by chance\", so we will experiment the combinations of data and models using Cross-Validation. Meaning, we will create several stratified splits into `training` and `testing` data and apply the models to each one of them.\n"
   ]
  },
  {
   "cell_type": "markdown",
   "id": "welsh-aaron",
   "metadata": {},
   "source": [
    "### 4.2. Gather evaluation metrics\n",
    "In the following code cell, we will be printing the performance metrics for each combination of data and model. The evaluation will be done as __one vs all__ on the multi-class problem."
   ]
  },
  {
   "cell_type": "code",
   "execution_count": 20,
   "id": "baf02731",
   "metadata": {},
   "outputs": [
    {
     "name": "stdout",
     "output_type": "stream",
     "text": [
      "The mean f1_micro for the original repository on SVC(kernel='linear'):  0.5921146953405019\n",
      "The mean f1_micro for the threshold repository on SVC(kernel='linear'):  0.5261648745519713\n",
      "The mean f1_micro for the HOG features repository on SVC(kernel='linear'):  0.7318996415770609\n",
      "The mean f1_micro for the augmented repository with the augmented target on SVC(kernel='linear'):  0.6073846298295854\n",
      "The mean f1_micro for the original repository with the decomposed classes target on SVC(kernel='linear'):  0.5813620071684589\n",
      "\n",
      "\n",
      "The mean accuracy for the original repository on SVC(kernel='linear'):  0.5921146953405019\n",
      "The mean accuracy for the threshold repository on SVC(kernel='linear'):  0.5261648745519713\n",
      "The mean accuracy for the HOG features repository on SVC(kernel='linear'):  0.7318996415770609\n",
      "The mean accuracy for the augmented repository with the augmented target on SVC(kernel='linear'):  0.6073846298295854\n",
      "The mean accuracy for the original repository with the decomposed classes target on SVC(kernel='linear'):  0.5813620071684589\n",
      "\n",
      "\n",
      "The mean precision_micro for the original repository on SVC(kernel='linear'):  0.5921146953405019\n",
      "The mean precision_micro for the threshold repository on SVC(kernel='linear'):  0.5261648745519713\n",
      "The mean precision_micro for the HOG features repository on SVC(kernel='linear'):  0.7318996415770609\n",
      "The mean precision_micro for the augmented repository with the augmented target on SVC(kernel='linear'):  0.6073846298295854\n",
      "The mean precision_micro for the original repository with the decomposed classes target on SVC(kernel='linear'):  0.5813620071684589\n",
      "\n",
      "\n",
      "The mean recall_micro for the original repository on SVC(kernel='linear'):  0.5921146953405019\n",
      "The mean recall_micro for the threshold repository on SVC(kernel='linear'):  0.5261648745519713\n",
      "The mean recall_micro for the HOG features repository on SVC(kernel='linear'):  0.7318996415770609\n",
      "The mean recall_micro for the augmented repository with the augmented target on SVC(kernel='linear'):  0.6073846298295854\n",
      "The mean recall_micro for the original repository with the decomposed classes target on SVC(kernel='linear'):  0.5813620071684589\n",
      "\n",
      "\n",
      "The mean f1_micro for the original repository on RandomForestClassifier(n_estimators=30, random_state=500):  0.6272401433691756\n",
      "The mean f1_micro for the threshold repository on RandomForestClassifier(n_estimators=30, random_state=500):  0.5792114695340501\n",
      "The mean f1_micro for the HOG features repository on RandomForestClassifier(n_estimators=30, random_state=500):  0.6487455197132617\n",
      "The mean f1_micro for the augmented repository with the augmented target on RandomForestClassifier(n_estimators=30, random_state=500):  0.6308091951864545\n",
      "The mean f1_micro for the original repository with the decomposed classes target on RandomForestClassifier(n_estimators=30, random_state=500):  0.6236559139784946\n",
      "\n",
      "\n",
      "The mean accuracy for the original repository on RandomForestClassifier(n_estimators=30, random_state=500):  0.6272401433691756\n",
      "The mean accuracy for the threshold repository on RandomForestClassifier(n_estimators=30, random_state=500):  0.5792114695340501\n",
      "The mean accuracy for the HOG features repository on RandomForestClassifier(n_estimators=30, random_state=500):  0.6487455197132617\n",
      "The mean accuracy for the augmented repository with the augmented target on RandomForestClassifier(n_estimators=30, random_state=500):  0.6308091951864545\n",
      "The mean accuracy for the original repository with the decomposed classes target on RandomForestClassifier(n_estimators=30, random_state=500):  0.6236559139784946\n",
      "\n",
      "\n",
      "The mean precision_micro for the original repository on RandomForestClassifier(n_estimators=30, random_state=500):  0.6272401433691756\n",
      "The mean precision_micro for the threshold repository on RandomForestClassifier(n_estimators=30, random_state=500):  0.5792114695340501\n",
      "The mean precision_micro for the HOG features repository on RandomForestClassifier(n_estimators=30, random_state=500):  0.6487455197132617\n",
      "The mean precision_micro for the augmented repository with the augmented target on RandomForestClassifier(n_estimators=30, random_state=500):  0.6308091951864545\n",
      "The mean precision_micro for the original repository with the decomposed classes target on RandomForestClassifier(n_estimators=30, random_state=500):  0.6236559139784946\n",
      "\n",
      "\n",
      "The mean recall_micro for the original repository on RandomForestClassifier(n_estimators=30, random_state=500):  0.6272401433691756\n",
      "The mean recall_micro for the threshold repository on RandomForestClassifier(n_estimators=30, random_state=500):  0.5792114695340501\n",
      "The mean recall_micro for the HOG features repository on RandomForestClassifier(n_estimators=30, random_state=500):  0.6487455197132617\n",
      "The mean recall_micro for the augmented repository with the augmented target on RandomForestClassifier(n_estimators=30, random_state=500):  0.6308091951864545\n",
      "The mean recall_micro for the original repository with the decomposed classes target on RandomForestClassifier(n_estimators=30, random_state=500):  0.6236559139784946\n",
      "\n",
      "\n",
      "The mean f1_micro for the original repository on MLPClassifier(alpha=0.005, random_state=500):  0.5168458781362008\n",
      "The mean f1_micro for the threshold repository on MLPClassifier(alpha=0.005, random_state=500):  0.43584229390681006\n",
      "The mean f1_micro for the HOG features repository on MLPClassifier(alpha=0.005, random_state=500):  0.7247311827956989\n",
      "The mean f1_micro for the augmented repository with the augmented target on MLPClassifier(alpha=0.005, random_state=500):  0.35788304148475036\n",
      "The mean f1_micro for the original repository with the decomposed classes target on MLPClassifier(alpha=0.005, random_state=500):  0.4301075268817204\n",
      "\n",
      "\n",
      "The mean accuracy for the original repository on MLPClassifier(alpha=0.005, random_state=500):  0.5168458781362008\n",
      "The mean accuracy for the threshold repository on MLPClassifier(alpha=0.005, random_state=500):  0.43584229390681006\n",
      "The mean accuracy for the HOG features repository on MLPClassifier(alpha=0.005, random_state=500):  0.7247311827956989\n",
      "The mean accuracy for the augmented repository with the augmented target on MLPClassifier(alpha=0.005, random_state=500):  0.35788304148475036\n",
      "The mean accuracy for the original repository with the decomposed classes target on MLPClassifier(alpha=0.005, random_state=500):  0.4301075268817204\n",
      "\n",
      "\n",
      "The mean precision_micro for the original repository on MLPClassifier(alpha=0.005, random_state=500):  0.5168458781362008\n",
      "The mean precision_micro for the threshold repository on MLPClassifier(alpha=0.005, random_state=500):  0.43584229390681006\n",
      "The mean precision_micro for the HOG features repository on MLPClassifier(alpha=0.005, random_state=500):  0.7247311827956989\n",
      "The mean precision_micro for the augmented repository with the augmented target on MLPClassifier(alpha=0.005, random_state=500):  0.35788304148475036\n",
      "The mean precision_micro for the original repository with the decomposed classes target on MLPClassifier(alpha=0.005, random_state=500):  0.4301075268817204\n",
      "\n",
      "\n",
      "The mean recall_micro for the original repository on MLPClassifier(alpha=0.005, random_state=500):  0.5168458781362008\n",
      "The mean recall_micro for the threshold repository on MLPClassifier(alpha=0.005, random_state=500):  0.43584229390681006\n",
      "The mean recall_micro for the HOG features repository on MLPClassifier(alpha=0.005, random_state=500):  0.7247311827956989\n",
      "The mean recall_micro for the augmented repository with the augmented target on MLPClassifier(alpha=0.005, random_state=500):  0.35788304148475036\n",
      "The mean recall_micro for the original repository with the decomposed classes target on MLPClassifier(alpha=0.005, random_state=500):  0.4301075268817204\n",
      "\n",
      "\n"
     ]
    }
   ],
   "source": [
    "#models = [model_svm, model_rf, model_nn, model_cnn]\n",
    "models = [model_svm, model_rf, model_nn]\n",
    "scores = ['f1_micro', 'accuracy', 'precision_micro', 'recall_micro'] # `_micro` added as the problem is a multi-class problem\n",
    " \n",
    "for m, i in enumerate(models):\n",
    "    #if i != model_cnn:\n",
    "        for j in scores:\n",
    "            print('The mean ' + str(j) + ' for the original repository on ' + str(models[m]) + ': ', np.mean(cross_val_score(i, original_repo, target, cv = 5, scoring = j)))\n",
    "            print('The mean ' + str(j) + ' for the threshold repository on ' + str(models[m]) + ': ', np.mean(cross_val_score(i, thresh_repo, target, cv = 5, scoring = j)))\n",
    "            print('The mean ' + str(j) + ' for the HOG features repository on ' + str(models[m]) + ': ', np.mean(cross_val_score(i, hog_repo, target, cv = 5, scoring = j)))\n",
    "            print('The mean ' + str(j) + ' for the augmented repository with the augmented target on ' + str(models[m]) + ': ', np.mean(cross_val_score(i, aug_repo, aug_target, cv = 5, scoring = j)))\n",
    "            print('The mean ' + str(j) + ' for the original repository with the decomposed classes target on ' + str(models[m]) + ': ', np.mean(cross_val_score(i, original_repo, cl_decompose, cv = 5, scoring = j)))\n",
    "            print('\\n')\n",
    "    #else:\n",
    "     #   for j in scores:\n",
    "      #      print('The mean' + str(j) + 'for the original repository on ' + str(i) + ': ', np.mean(cross_val_score(i, original_repo, target, cv = 5, scoring = j)))\n",
    "       #     print('The mean' + str(j) + 'for the threshold repository on ' + str(i) + ': ', np.mean(cross_val_score(i, thresh_repo, target, cv = 5, scoring = j)))\n",
    "        #    print('The mean' + str(j) + 'for the augmented repository with the augmented target on ' + str(i) + ': ', np.mean(cross_val_score(i, aug_repo, aug_target, cv = 5, scoring = j)))\n",
    "         #   print('The mean' + str(j) + 'for the original repository with the decomposed classes target on ' + str(i) + ': ', np.mean(cross_val_score(i, original_repo, cl_decompose, cv = 5, scoring = j)))\n",
    "          #  print('\\n')\n"
   ]
  },
  {
   "cell_type": "markdown",
   "id": "sixth-emphasis",
   "metadata": {},
   "source": [
    "## 5. Evaluation and comments\n",
    "\n",
    "Following the output, we can see that the best value of the `F1-score` is for the combination __SVM on the HOG features__. \n",
    "\n",
    "Unfortunately, for the time being, the fourth model was unsuccessfully implemented. The code for obtaining the metrics remains commented out for later solving the issue in building the model.\n"
   ]
  },
  {
   "cell_type": "markdown",
   "id": "2ca2c1d2",
   "metadata": {},
   "source": [
    "### 5.1. Reasons for low results\n",
    "The results so far are due to raw model implementation and there is no attempt to tune the model parameter, besides the build-in tunning of the algorithm functions. \n",
    "\n",
    "The repositories created might not be the best for face recognition. For example, instead of applying threshold, finding the edges might have been more suitable.\n",
    "\n",
    "Another reason for which the models perform poorly is the image quality that was fed to the models. As the images come from two different online repositories, the image resolutions will be different, the lighting on the face might inhibit the feature detection. And some of the images are professionally taken photos, so it is expected they will have artificially modified pixels that will stand out.\n",
    "\n",
    "And the last reason is ethnicity imbalance. The two datasets do not have an equal share in the data used, so the majority of ethnicity is Chinese.\n",
    "\n",
    "All these said the results can be increased with consistent data. For example, using the images from security cameras of the same model will provide raw images with low variation in lighting and resolution."
   ]
  },
  {
   "cell_type": "markdown",
   "id": "2f3ac31c",
   "metadata": {},
   "source": [
    "### 5.2. Future work\n",
    "With an unimplemented model, this will be the first issue to tackle. The next step is to apply tunning methods on the models for better parameter fit.\n",
    "\n",
    "If thinking of real application, as using raw images from security cameras, there should be applied a face recognition algorithm to crop the face, and then build the repositories.\n"
   ]
  },
  {
   "cell_type": "markdown",
   "id": "effective-finding",
   "metadata": {},
   "source": [
    "## Bibliography\n",
    "RAMAKRISHNAN, T. and SANKARAGOMATHI, B., 2017. A professional estimate on the computed tomography brain tumor images using SVM-SMO for classification and MRG-GWO for segmentation. Pattern Recognition Letters, 94, pp. 163-171\n"
   ]
  }
 ],
 "metadata": {
  "kernelspec": {
   "display_name": "Python 3",
   "language": "python",
   "name": "python3"
  },
  "language_info": {
   "codemirror_mode": {
    "name": "ipython",
    "version": 3
   },
   "file_extension": ".py",
   "mimetype": "text/x-python",
   "name": "python",
   "nbconvert_exporter": "python",
   "pygments_lexer": "ipython3",
   "version": "3.8.9"
  }
 },
 "nbformat": 4,
 "nbformat_minor": 5
}
